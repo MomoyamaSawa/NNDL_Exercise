{
 "cells": [
  {
   "cell_type": "markdown",
   "metadata": {},
   "source": [
    "## 准备数据"
   ]
  },
  {
   "cell_type": "code",
   "execution_count": 15,
   "metadata": {},
   "outputs": [],
   "source": [
    "import os\n",
    "import tensorflow as tf\n",
    "from tensorflow.python.keras import optimizers\n",
    "import tensorflow_datasets as tfds\n",
    "import numpy as np\n",
    "\n",
    "os.environ[\"PROTOCOL_BUFFERS_PYTHON_IMPLEMENTATION\"] = \"python\"\n",
    "\n",
    "os.environ['TF_CPP_MIN_LOG_LEVEL'] = '2'  # or any {'0', '1', '2'}\n",
    "\n",
    "\n",
    "def mnist_dataset():\n",
    "    datasets = tfds.load(\n",
    "        \"mnist\", split=[\"train\", \"test\"], shuffle_files=True, as_supervised=True\n",
    "    )\n",
    "\n",
    "    # 将数据集转换为numpy数组\n",
    "    x_train = np.stack([x.numpy() for x, _ in datasets[0]], axis=0)\n",
    "    y_train = np.array([y.numpy() for _, y in datasets[0]])\n",
    "    x_test = np.stack([x.numpy() for x, _ in datasets[1]], axis=0)\n",
    "    y_test = np.array([y.numpy() for _, y in datasets[1]])\n",
    "\n",
    "    # normalize\n",
    "    x_train = x_train / 255.0\n",
    "    x_test = x_test / 255.0\n",
    "\n",
    "    return (x_train, y_train), (x_test, y_test)"
   ]
  },
  {
   "cell_type": "code",
   "execution_count": 4,
   "metadata": {},
   "outputs": [
    {
     "name": "stdout",
     "output_type": "stream",
     "text": [
      "[(1, 'a'), (2, 'b'), (3, 'c'), (4, 'd')]\n"
     ]
    }
   ],
   "source": [
    "print(list(zip([1, 2, 3, 4], ['a', 'b', 'c', 'd'])))"
   ]
  },
  {
   "cell_type": "markdown",
   "metadata": {},
   "source": [
    "## 建立模型"
   ]
  },
  {
   "cell_type": "code",
   "execution_count": 5,
   "metadata": {},
   "outputs": [],
   "source": [
    "class myModel:\n",
    "    def __init__(self):\n",
    "        ####################\n",
    "        '''声明模型对应的参数'''\n",
    "        ####################\n",
    "\n",
    "        self.W1 = tf.Variable(\n",
    "            tf.random.normal([784, 256])\n",
    "        )  # 784是输入层的大小，256是隐藏层的大小\n",
    "        self.b1 = tf.Variable(tf.zeros([256]))\n",
    "        self.W2 = tf.Variable(\n",
    "            tf.random.normal([256, 10])\n",
    "        )  # 256是隐藏层的大小，10是输出层的大小（对应10个类别）\n",
    "        self.b2 = tf.Variable(tf.zeros([10]))\n",
    "\n",
    "    def __call__(self, x):\n",
    "        ####################\n",
    "        '''实现模型函数体，返回未归一化的logits'''\n",
    "        ####################\n",
    "\n",
    "        x = tf.reshape(x, [-1, 784])  # 将输入数据展平，这里-1为自动计算，算的是batch_size\n",
    "        h = tf.nn.relu(tf.matmul(x, self.W1) + self.b1)  # 计算隐藏层的输出, matmul是矩阵乘法\n",
    "        logits = tf.matmul(h, self.W2) + self.b2  # 计算输出层的输出\n",
    "\n",
    "        return logits\n",
    "\n",
    "model = myModel()\n",
    "\n",
    "optimizer = optimizers.adam_v2.Adam()"
   ]
  },
  {
   "cell_type": "markdown",
   "metadata": {},
   "source": [
    "## 计算 loss"
   ]
  },
  {
   "cell_type": "code",
   "execution_count": 6,
   "metadata": {},
   "outputs": [],
   "source": [
    "@tf.function\n",
    "def compute_loss(logits, labels):\n",
    "    return tf.reduce_mean(\n",
    "        tf.nn.sparse_softmax_cross_entropy_with_logits(\n",
    "            logits=logits, labels=labels))\n",
    "\n",
    "@tf.function\n",
    "def compute_accuracy(logits, labels):\n",
    "    predictions = tf.argmax(logits, axis=1)\n",
    "    return tf.reduce_mean(tf.cast(tf.equal(predictions, labels), tf.float32))\n",
    "\n",
    "@tf.function\n",
    "def train_one_step(model, optimizer, x, y):\n",
    "    with tf.GradientTape() as tape:\n",
    "        logits = model(x)\n",
    "        loss = compute_loss(logits, y)\n",
    "\n",
    "    # compute gradient\n",
    "    trainable_vars = [model.W1, model.W2, model.b1, model.b2]\n",
    "    grads = tape.gradient(loss, trainable_vars)\n",
    "    for g, v in zip(grads, trainable_vars):\n",
    "        v.assign_sub(0.01*g)\n",
    "\n",
    "    accuracy = compute_accuracy(logits, y)\n",
    "\n",
    "    # loss and accuracy is scalar tensor\n",
    "    return loss, accuracy\n",
    "\n",
    "@tf.function\n",
    "def test(model, x, y):\n",
    "    logits = model(x)\n",
    "    loss = compute_loss(logits, y)\n",
    "    accuracy = compute_accuracy(logits, y)\n",
    "    return loss, accuracy"
   ]
  },
  {
   "cell_type": "markdown",
   "metadata": {},
   "source": [
    "## 实际训练"
   ]
  },
  {
   "cell_type": "code",
   "execution_count": 16,
   "metadata": {},
   "outputs": [
    {
     "name": "stdout",
     "output_type": "stream",
     "text": [
      "(60000, 28, 28, 1) (60000,)\n",
      "epoch 0 : loss 68.07714 ; accuracy 0.0999\n",
      "epoch 1 : loss 67.864815 ; accuracy 0.09985\n",
      "epoch 2 : loss 67.6556 ; accuracy 0.09983333\n",
      "epoch 3 : loss 67.449 ; accuracy 0.0999\n",
      "epoch 4 : loss 67.24477 ; accuracy 0.0999\n",
      "epoch 5 : loss 67.04279 ; accuracy 0.10001667\n",
      "epoch 6 : loss 66.843 ; accuracy 0.100083336\n",
      "epoch 7 : loss 66.64531 ; accuracy 0.10005\n",
      "epoch 8 : loss 66.44969 ; accuracy 0.100216664\n",
      "epoch 9 : loss 66.25607 ; accuracy 0.10036667\n",
      "epoch 10 : loss 66.06442 ; accuracy 0.10035\n",
      "epoch 11 : loss 65.874695 ; accuracy 0.100383334\n",
      "epoch 12 : loss 65.68681 ; accuracy 0.100433335\n",
      "epoch 13 : loss 65.5008 ; accuracy 0.1005\n",
      "epoch 14 : loss 65.31666 ; accuracy 0.10053334\n",
      "epoch 15 : loss 65.13432 ; accuracy 0.10046667\n",
      "epoch 16 : loss 64.95373 ; accuracy 0.10065\n",
      "epoch 17 : loss 64.774895 ; accuracy 0.10053334\n",
      "epoch 18 : loss 64.59782 ; accuracy 0.10063333\n",
      "epoch 19 : loss 64.42247 ; accuracy 0.10063333\n",
      "epoch 20 : loss 64.24879 ; accuracy 0.10065\n",
      "epoch 21 : loss 64.07674 ; accuracy 0.10063333\n",
      "epoch 22 : loss 63.906265 ; accuracy 0.10058333\n",
      "epoch 23 : loss 63.73735 ; accuracy 0.1006\n",
      "epoch 24 : loss 63.56995 ; accuracy 0.10075\n",
      "epoch 25 : loss 63.404026 ; accuracy 0.100766666\n",
      "epoch 26 : loss 63.239624 ; accuracy 0.10085\n",
      "epoch 27 : loss 63.07675 ; accuracy 0.100766666\n",
      "epoch 28 : loss 62.915367 ; accuracy 0.10095\n",
      "epoch 29 : loss 62.75545 ; accuracy 0.10096667\n",
      "epoch 30 : loss 62.59697 ; accuracy 0.10118333\n",
      "epoch 31 : loss 62.43989 ; accuracy 0.10125\n",
      "epoch 32 : loss 62.284184 ; accuracy 0.10131667\n",
      "epoch 33 : loss 62.12985 ; accuracy 0.101383336\n",
      "epoch 34 : loss 61.976868 ; accuracy 0.10155\n",
      "epoch 35 : loss 61.825203 ; accuracy 0.10171667\n",
      "epoch 36 : loss 61.674892 ; accuracy 0.1018\n",
      "epoch 37 : loss 61.52593 ; accuracy 0.1019\n",
      "epoch 38 : loss 61.378242 ; accuracy 0.10191666\n",
      "epoch 39 : loss 61.231804 ; accuracy 0.10198333\n",
      "epoch 40 : loss 61.086582 ; accuracy 0.101966664\n",
      "epoch 41 : loss 60.942593 ; accuracy 0.1019\n",
      "epoch 42 : loss 60.799767 ; accuracy 0.102066666\n",
      "epoch 43 : loss 60.65813 ; accuracy 0.10205\n",
      "epoch 44 : loss 60.517624 ; accuracy 0.102016665\n",
      "epoch 45 : loss 60.37829 ; accuracy 0.10215\n",
      "epoch 46 : loss 60.240074 ; accuracy 0.10216667\n",
      "epoch 47 : loss 60.102932 ; accuracy 0.1023\n",
      "epoch 48 : loss 59.966858 ; accuracy 0.10245\n",
      "epoch 49 : loss 59.831837 ; accuracy 0.10236666\n",
      "test loss 54.707317 ; accuracy 0.1175\n"
     ]
    }
   ],
   "source": [
    "train_data, test_data = mnist_dataset()\n",
    "print(train_data[0].shape, train_data[1].shape)\n",
    "for epoch in range(50):\n",
    "    loss, accuracy = train_one_step(model, optimizer, \n",
    "                                    tf.constant(train_data[0], dtype=tf.float32), \n",
    "                                    tf.constant(train_data[1], dtype=tf.int64))\n",
    "    print('epoch', epoch, ': loss', loss.numpy(), '; accuracy', accuracy.numpy())\n",
    "loss, accuracy = test(model, \n",
    "                      tf.constant(test_data[0], dtype=tf.float32), \n",
    "                      tf.constant(test_data[1], dtype=tf.int64))\n",
    "\n",
    "print('test loss', loss.numpy(), '; accuracy', accuracy.numpy())"
   ]
  }
 ],
 "metadata": {
  "kernelspec": {
   "display_name": "Python 3",
   "language": "python",
   "name": "python3"
  },
  "language_info": {
   "codemirror_mode": {
    "name": "ipython",
    "version": 3
   },
   "file_extension": ".py",
   "mimetype": "text/x-python",
   "name": "python",
   "nbconvert_exporter": "python",
   "pygments_lexer": "ipython3",
   "version": "3.10.13"
  }
 },
 "nbformat": 4,
 "nbformat_minor": 2
}
